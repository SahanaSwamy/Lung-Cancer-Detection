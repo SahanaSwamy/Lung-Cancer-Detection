{
 "cells": [
  {
   "cell_type": "code",
   "execution_count": 1,
   "metadata": {},
   "outputs": [],
   "source": [
    "%matplotlib inline\n",
    "\n",
    "import numpy as np\n",
    "import tensorflow as tf\n",
    "import matplotlib.pyplot as plt\n",
    "import os"
   ]
  },
  {
   "cell_type": "code",
   "execution_count": 5,
   "metadata": {},
   "outputs": [
    {
     "name": "stdout",
     "output_type": "stream",
     "text": [
      "Test data size: 0, Number of test batches: 0\n"
     ]
    }
   ],
   "source": [
    "preprocessed_data_folder = 'I:/4_Sahana/sample_images_preprocessed/'\n",
    "batch_size = 10 # divide set into batches to prevent machine from running out of memory\n",
    "data_shape = [250, 350, 400]\n",
    "\n",
    "patients = os.listdir(preprocessed_data_folder)\n",
    "patients.sort()\n",
    "\n",
    "test_batches = []\n",
    "current_test_batch = []\n",
    "test_data_size = 0\n",
    "\n",
    "for i in range(len(patients)):  \n",
    "    if patients[i].startswith('.'): continue # ignore hidden files\n",
    "    \n",
    "    # test data\n",
    "    if np.load(preprocessed_data_folder + patients[i])['set'] == 'test':\n",
    "        current_test_batch.append(patients[i])\n",
    "        \n",
    "        #  if current test batch is full\n",
    "        if (len(current_test_batch) == batch_size): \n",
    "            test_batches.append(current_test_batch)\n",
    "            test_data_size += batch_size\n",
    "            current_test_batch = []\n",
    "\n",
    "# save the remaining test data\n",
    "if len(current_test_batch) != 0:\n",
    "    test_data_size += len(current_test_batch)\n",
    "    # pad zeros to make its size equal to batch_size\n",
    "    while (len(current_test_batch) != batch_size):\n",
    "        current_test_batch.append(0)\n",
    "    test_batches.append(current_test_batch)\n",
    "    current_test_batch = []\n",
    "\n",
    "test_batches = np.array(test_batches)\n",
    "\n",
    "print('Test data size: {:d}, Number of test batches: {:d}'.format(\n",
    "    test_data_size, test_batches.shape[0]))"
   ]
  },
  {
   "cell_type": "code",
   "execution_count": null,
   "metadata": {},
   "outputs": [],
   "source": []
  }
 ],
 "metadata": {
  "kernelspec": {
   "display_name": "Python 3",
   "language": "python",
   "name": "python3"
  },
  "language_info": {
   "codemirror_mode": {
    "name": "ipython",
    "version": 3
   },
   "file_extension": ".py",
   "mimetype": "text/x-python",
   "name": "python",
   "nbconvert_exporter": "python",
   "pygments_lexer": "ipython3",
   "version": "3.7.6"
  }
 },
 "nbformat": 4,
 "nbformat_minor": 4
}
